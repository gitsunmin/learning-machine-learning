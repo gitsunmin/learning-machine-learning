{
 "cells": [
  {
   "cell_type": "code",
   "execution_count": 11,
   "id": "3f955ab5",
   "metadata": {},
   "outputs": [
    {
     "name": "stdout",
     "output_type": "stream",
     "text": [
      "A: [[1 2 3]\n",
      " [4 5 6]]\n",
      "B: [[1 2]\n",
      " [3 4]\n",
      " [5 6]]\n",
      "np.dot(A, B): [[22 28]\n",
      " [49 64]]\n",
      "A @ B: [[22 28]\n",
      " [49 64]]\n",
      "C.shape: (2, 2)\n",
      "A.shape: (2, 3)\n"
     ]
    }
   ],
   "source": [
    "import numpy as np\n",
    "\n",
    "A = np.array([[1, 2, 3], [4, 5, 6]])\n",
    "print('A:', A)\n",
    "\n",
    "B = np.array([[1, 2], [3, 4], [5, 6]])\n",
    "print('B:', B)\n",
    "\n",
    "np.dot(A, B)\n",
    "print('np.dot(A, B):', np.dot(A, B))\n",
    "print('A @ B:', A @ B)\n",
    "\n",
    "C = np.array([[1, 2], [3, 4]])\n",
    "print('C.shape:', C.shape)\n",
    "\n",
    "print('A.shape:', A.shape)\n",
    "\n",
    "# print('np.dot(A, C):', np.dot(A, C)) Errer: shapes (2,3) and (2,2) not aligned: 3 (dim 1) != 2 (dim 0)\n",
    "# print('A @ C:', A @ C)\n"
   ]
  },
  {
   "cell_type": "code",
   "execution_count": 13,
   "id": "f895d6e9",
   "metadata": {},
   "outputs": [
    {
     "name": "stdout",
     "output_type": "stream",
     "text": [
      "A: [[1 2]\n",
      " [3 4]\n",
      " [5 6]]\n",
      "A.shape: (3, 2)\n",
      "B: [7 8]\n",
      "B.shape: (2,)\n",
      "C: [23 53 83]\n",
      "C.shape: (3,)\n"
     ]
    }
   ],
   "source": [
    "A = np.array([[1, 2], [3, 4], [5, 6]])\n",
    "print('A:', A)\n",
    "\n",
    "print('A.shape:', A.shape)\n",
    "\n",
    "B = np.array([7, 8])\n",
    "print ('B:', B)\n",
    "print('B.shape:', B.shape)\n",
    "\n",
    "C = np.dot(A, B)\n",
    "print('C:', C)\n",
    "print('C.shape:', C.shape)"
   ]
  }
 ],
 "metadata": {
  "kernelspec": {
   "display_name": ".venv",
   "language": "python",
   "name": "python3"
  },
  "language_info": {
   "codemirror_mode": {
    "name": "ipython",
    "version": 3
   },
   "file_extension": ".py",
   "mimetype": "text/x-python",
   "name": "python",
   "nbconvert_exporter": "python",
   "pygments_lexer": "ipython3",
   "version": "3.13.3"
  }
 },
 "nbformat": 4,
 "nbformat_minor": 5
}
